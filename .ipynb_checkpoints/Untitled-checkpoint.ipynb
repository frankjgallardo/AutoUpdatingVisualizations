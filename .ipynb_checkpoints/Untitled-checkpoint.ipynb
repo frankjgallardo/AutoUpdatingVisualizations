{
 "cells": [
  {
   "cell_type": "code",
   "execution_count": 5,
   "id": "f90ff8aa",
   "metadata": {},
   "outputs": [],
   "source": [
    "import pandas as pd\n",
    "from config import IEX_API_Key\n",
    "\n",
    "\n",
    "tickers = [\n",
    "    'JPM',\n",
    "    'BAC',\n",
    "    'C',\n",
    "    'WFC',\n",
    "    'GS',\n",
    "]\n",
    "\n",
    "ticker_string =''\n",
    "\n",
    "for ticker in tickers:\n",
    "    ticker_string += ticker\n",
    "    ticker_string += ','\n",
    "\n",
    "ticker_string = ticker_string[:-1]\n",
    "\n",
    "endpoints = 'chart'\n",
    "years = '10'\n",
    "\n",
    "HTTP_request = f'https://cloud.iexapis.com/stable/stock/market/batch?symbols={ticker_string}&types={endpoints}&range={years}y&token={IEX_API_Key}'\n",
    "\n",
    "bank_data = pd.read_json(HTTP_request)\n",
    "\n",
    "series_list = []\n",
    "\n",
    "for ticker in tickers:\n",
    "    series_list.append(pd.DataFrame(bank_data[ticker]['chart'])['close'])\n",
    "\n",
    "series_list.append(pd.DataFrame(bank_data[ticker]['chart'])['date'])\n",
    "\n",
    "column_names = tickers.copy()\n",
    "column_names.append('Date')\n",
    "\n",
    "bank_data = pd.concat(series_list, axis=1)\n",
    "\n",
    "bank_data.columns = column_names\n",
    "bank_data.set_index('Date', inplace = True)"
   ]
  },
  {
   "cell_type": "code",
   "execution_count": null,
   "id": "168b2bb4",
   "metadata": {},
   "outputs": [],
   "source": []
  }
 ],
 "metadata": {
  "kernelspec": {
   "display_name": "Python 3 (ipykernel)",
   "language": "python",
   "name": "python3"
  },
  "language_info": {
   "codemirror_mode": {
    "name": "ipython",
    "version": 3
   },
   "file_extension": ".py",
   "mimetype": "text/x-python",
   "name": "python",
   "nbconvert_exporter": "python",
   "pygments_lexer": "ipython3",
   "version": "3.9.13"
  }
 },
 "nbformat": 4,
 "nbformat_minor": 5
}
